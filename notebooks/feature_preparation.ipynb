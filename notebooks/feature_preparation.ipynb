{
 "cells": [
  {
   "cell_type": "code",
   "execution_count": 1,
   "id": "fc02f9f6",
   "metadata": {},
   "outputs": [],
   "source": [
    "import librosa\n",
    "import numpy as np"
   ]
  },
  {
   "cell_type": "code",
   "execution_count": null,
   "id": "404cdb73",
   "metadata": {},
   "outputs": [
    {
     "ename": "NameError",
     "evalue": "name 'X_audio' is not defined",
     "output_type": "error",
     "traceback": [
      "\u001b[1;31m---------------------------------------------------------------------------\u001b[0m",
      "\u001b[1;31mNameError\u001b[0m                                 Traceback (most recent call last)",
      "Cell \u001b[1;32mIn[2], line 9\u001b[0m\n\u001b[0;32m      6\u001b[0m \u001b[38;5;66;03m# Storage lists\u001b[39;00m\n\u001b[0;32m      7\u001b[0m X_mel, X_mfcc, X_chroma \u001b[38;5;241m=\u001b[39m [], [], []\n\u001b[1;32m----> 9\u001b[0m \u001b[38;5;28;01mfor\u001b[39;00m i, signal \u001b[38;5;129;01min\u001b[39;00m \u001b[38;5;28menumerate\u001b[39m(\u001b[43mX_audio\u001b[49m):\n\u001b[0;32m     10\u001b[0m     \u001b[38;5;66;03m# Mel-spectrogram\u001b[39;00m\n\u001b[0;32m     11\u001b[0m     mel_spec \u001b[38;5;241m=\u001b[39m librosa\u001b[38;5;241m.\u001b[39mfeature\u001b[38;5;241m.\u001b[39mmelspectrogram(y\u001b[38;5;241m=\u001b[39msignal, sr\u001b[38;5;241m=\u001b[39msr, n_mels\u001b[38;5;241m=\u001b[39mn_mels)\n\u001b[0;32m     12\u001b[0m     mel_db \u001b[38;5;241m=\u001b[39m librosa\u001b[38;5;241m.\u001b[39mpower_to_db(mel_spec, ref\u001b[38;5;241m=\u001b[39mnp\u001b[38;5;241m.\u001b[39mmax)\n",
      "\u001b[1;31mNameError\u001b[0m: name 'X_audio' is not defined"
     ]
    }
   ],
   "source": [
    "\n",
    "# Parameters\n",
    "sr = 22050\n",
    "n_mfcc = 13\n",
    "n_mels = 128\n",
    "\n",
    "# Storage lists\n",
    "X_mel, X_mfcc, X_chroma = [], [], []\n",
    "\n",
    "for i, signal in enumerate(X_audio):\n",
    "    # Mel-spectrogram\n",
    "    mel_spec = librosa.feature.melspectrogram(y=signal, sr=sr, n_mels=n_mels)\n",
    "    mel_db = librosa.power_to_db(mel_spec, ref=np.max)\n",
    "\n",
    "    # MFCCs\n",
    "    mfcc = librosa.feature.mfcc(S=mel_db, sr=sr, n_mfcc=n_mfcc)\n",
    "\n",
    "    # Chroma\n",
    "    chroma = librosa.feature.chroma_stft(y=signal, sr=sr)\n",
    "\n",
    "    # Store features\n",
    "    X_mel.append(mel_db)\n",
    "    X_mfcc.append(mfcc)\n",
    "    X_chroma.append(chroma)\n",
    "\n",
    "    if i % 20 == 0:\n",
    "        print(f\"Processed {i+1}/{len(X_audio)}\")\n",
    "\n",
    "# Convert lists to numpy arrays\n",
    "X_mel = np.array(X_mel, dtype=object)\n",
    "X_mfcc = np.array(X_mfcc, dtype=object)\n",
    "X_chroma = np.array(X_chroma, dtype=object)\n"
   ]
  }
 ],
 "metadata": {
  "kernelspec": {
   "display_name": "ipcv",
   "language": "python",
   "name": "python3"
  },
  "language_info": {
   "codemirror_mode": {
    "name": "ipython",
    "version": 3
   },
   "file_extension": ".py",
   "mimetype": "text/x-python",
   "name": "python",
   "nbconvert_exporter": "python",
   "pygments_lexer": "ipython3",
   "version": "3.11.9"
  }
 },
 "nbformat": 4,
 "nbformat_minor": 5
}
